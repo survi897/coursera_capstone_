{
 "cells": [
  {
   "cell_type": "markdown",
   "metadata": {},
   "source": [
    "# 2. Data Acquisition and Cleaning"
   ]
  },
  {
   "cell_type": "markdown",
   "metadata": {},
   "source": [
    "# 2.1 Data Acquisition\n",
    "The data acquired for this project is a combination of data from three sources. The first data\n",
    "source of the project uses a London crime data that shows the crime per borough in London.\n",
    "The dataset contains the following columns:\n",
    "● lsoa_code: code for Lower Super Output Area in Greater London.\n",
    "● borough: Common name for London borough.\n",
    "● major_category: High level categorization of crime\n",
    "● minor_category: Low level categorization of crime within major category.\n",
    "● value: monthly reported count of categorical crime in given borough\n",
    "● year: Year of reported counts, 2008-2016\n",
    "● month: Month of reported counts, 1-12\n"
   ]
  },
  {
   "cell_type": "raw",
   "metadata": {},
   "source": [
    "# The second source of data is scraped from a wikipedia page that contains the list of London\n",
    "boroughs. This page contains additional information about the boroughs, the following are\n",
    "the columns:\n",
    "● Borough: The names of the 33 London boroughs.\n",
    "● Inner: Categorizing the borough as an Inner London borough or an Outer London\n",
    "Borough.\n",
    "● Status: Categorizing the borough as Royal, City or other borough.\n",
    "● Local authority: The local authority assigned to the borough.\n",
    "● Political control: The political party that control the borough.\n",
    "● Headquarters: Headquarters of the Boroughs.\n",
    "● Area (sq mi): Area of the borough in square miles.\n",
    "● Population (2013 est)[1]: The population in the borough recorded during the year\n",
    "2013.\n",
    "● Co-ordinates: The latitude and longitude of the boroughs.\n",
    "● Nr. in map: The number assigned to each borough to represent visually on a map."
   ]
  },
  {
   "cell_type": "code",
   "execution_count": null,
   "metadata": {},
   "outputs": [],
   "source": [
    "The third data source is the list of Neighborhoods in the Royal Borough of Kingston upon\n",
    "Thames as found on a wikipedia page. This dataset is created from scratch using the list of\n",
    "neighborhood available on the site, the following are columns:\n",
    "● Neighborhood: Name of the neighborhood in the Borough.\n",
    "● Borough: Name of the Borough.\n",
    "● Latitude: Latitude of the Borough.\n",
    "● Longitude: Longitude of the Borough."
   ]
  }
 ],
 "metadata": {
  "kernelspec": {
   "display_name": "Python 3",
   "language": "python",
   "name": "python3"
  },
  "language_info": {
   "codemirror_mode": {
    "name": "ipython",
    "version": 3
   },
   "file_extension": ".py",
   "mimetype": "text/x-python",
   "name": "python",
   "nbconvert_exporter": "python",
   "pygments_lexer": "ipython3",
   "version": "3.7.6"
  }
 },
 "nbformat": 4,
 "nbformat_minor": 4
}
