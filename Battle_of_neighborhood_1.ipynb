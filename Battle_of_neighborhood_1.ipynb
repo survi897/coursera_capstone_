{
 "cells": [
  {
   "cell_type": "markdown",
   "metadata": {},
   "source": [
    "1. Introduction"
   ]
  },
  {
   "cell_type": "markdown",
   "metadata": {},
   "source": [
    "1.1 Background\n",
    "The average American moves about eleven times in their lifetime. This brings us to the\n",
    "question: Do people move until they find a place to settle down where they truly feel happy,\n",
    "or do our wants and needs change over time, prompting us to eventually leave a town we\n",
    "once called home for a new area that will bring us satisfaction? Or, do we too often move to\n",
    "a new area without knowing exactly what we’re getting into, forcing us to turn tail and run at\n",
    "the first sign of discomfort?"
   ]
  },
  {
   "cell_type": "markdown",
   "metadata": {},
   "source": [
    "To minimize the chances of this happening, we should always do proper research when\n",
    "planning our next move in life. Consider the following factors when picking a new place to\n",
    "live so you don’t end up wasting your valuable time and money making a move you’ll end\n",
    "up regretting. Safety is a top concern when moving to a new area. If you don’t feel safe in\n",
    "your own home, you’re not going to be able to enjoy living there."
   ]
  },
  {
   "cell_type": "markdown",
   "metadata": {},
   "source": [
    "1.2 Problem\n",
    "The crime statistics dataset of London found on Kaggle has crimes in each Boroughs of\n",
    "London from 2008 to 2016. The year 2016 being the latest we will be considering the data\n",
    "of that year which is actually old information as of now. The crime rates in each borough\n",
    "may have changed over time.\n",
    "This project aims to select the safest borough in London based on the total crimes, explore\n",
    "the neighborhoods of that borough to find the 10 most common venues in each\n",
    "neighborhood and finally cluster the neighborhoods using k-mean clustering.\n"
   ]
  },
  {
   "cell_type": "markdown",
   "metadata": {},
   "source": [
    "1.3 Interest\n",
    "Expats who are considering to relocate to London will be interested to identify the safest\n",
    "borough in London and explore its neighborhoods and common venues around each\n",
    "neighborhood."
   ]
  },
  {
   "cell_type": "code",
   "execution_count": null,
   "metadata": {},
   "outputs": [],
   "source": []
  }
 ],
 "metadata": {
  "kernelspec": {
   "display_name": "Python 3",
   "language": "python",
   "name": "python3"
  },
  "language_info": {
   "codemirror_mode": {
    "name": "ipython",
    "version": 3
   },
   "file_extension": ".py",
   "mimetype": "text/x-python",
   "name": "python",
   "nbconvert_exporter": "python",
   "pygments_lexer": "ipython3",
   "version": "3.7.6"
  }
 },
 "nbformat": 4,
 "nbformat_minor": 4
}
